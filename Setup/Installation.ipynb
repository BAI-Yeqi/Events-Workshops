{
 "cells": [
  {
   "cell_type": "markdown",
   "metadata": {},
   "source": [
    "## MACHINE LEARNING WORKSHOP: SETUP\n",
    "\n",
    "> Python is an interpreted high-level programming language for general-purpose programming. Created by Guido van Rossum and first released in 1991, Python has a design philosophy that emphasizes code readability, and a syntax that allows programmers to express concepts in fewer lines of code, notably using significant whitespace. It provides constructs that enable clear programming on both small and large scales.\n",
    "\n",
    "> In the workshop today, we are going to build the programs in python.\n",
    "\n",
    "\n",
    "<img src=\"imgs/python.png\" width=\"30%\" />\n",
    "\n"
   ]
  },
  {
   "cell_type": "markdown",
   "metadata": {},
   "source": [
    "### Installation of python on windows\n",
    "Download the folder: \"resource\" from the following link:\n",
    "        https://drive.google.com/open?id=12mN1NjFl1sDgYh0L7kO1Ji1ebUDFMoS6\n",
    "\n",
    "The items in the folder will help through out the workshop.\n",
    "\n",
    "Inside the folder \"\\resource\\python 3.6.3\", open the installer according to your system.\n",
    "<p> <br /> </p>\n",
    "\n",
    "\n",
    "\n",
    "<img src=\"imgs/mac_win.JPG\" width=\"15%\" />\n",
    "\n",
    "\n",
    "\n",
    "Choose a dircetory inside your computer to install python, or simply accept the default configration.\n",
    "\n",
    "<img src=\"imgs/install_python.JPG\" width=\"40%\" />\n",
    "\n",
    "<p> <br /> </p>\n",
    "\n",
    "<font color = \"red\", size = \"4\"> Do select the button \"Add Python 3.6 to PATH\". </font>\n",
    "\n"
   ]
  },
  {
   "cell_type": "markdown",
   "metadata": {},
   "source": [
    "### Introduction to openCV 3\n",
    "\n",
    ">OpenCV (Open Source Computer Vision) is a library of programming functions mainly aimed at real-time computer vision. Originally developed by Intel, it was later supported by Willow Garage and is now maintained by Itseez. The library is cross-platform and free for use under the open-source BSD license.\n",
    "\n",
    ">OpenCV supports the deep learning frameworks TensorFlow, Torch/PyTorch and Caffe.\n",
    "\n",
    "<img src=\"imgs/opencv-logo2.png\" width=\"20%\" />"
   ]
  },
  {
   "cell_type": "markdown",
   "metadata": {},
   "source": [
    "#### We are going to install openCV 3 with python on your computers, choose the one of the setup procedures below according to yout operating system: \n"
   ]
  },
  {
   "cell_type": "markdown",
   "metadata": {},
   "source": [
    "### Install openCV 3 on MacOS:\n",
    "\n",
    "<img src=\"imgs/install-opencv-3-on-macos.jpg\" width=\"20%\" />\n",
    "\n",
    "https://www.learnopencv.com/install-opencv3-on-macos/\n",
    "\n"
   ]
  },
  {
   "cell_type": "markdown",
   "metadata": {},
   "source": [
    "### Install openCV 3 on Windows:\n",
    "\n",
    "<img src=\"imgs/install-opencv-3-on-win.jpg\" width=\"20%\" />\n",
    "Copy and paste the \"Resources\" folder on your desktop.\n",
    "\n",
    "\n",
    "<img src=\"imgs/desktop.JPG\" width=\"40%\" />\n",
    "\n",
    "\n",
    "Now, open a cmd window.  \n",
    "\n",
    "\n",
    "<img src=\"imgs/cmd_1.webp\" width=\"70%\" />\n",
    "\n",
    "\n",
    "\n",
    "The idea is to open a cmd window where you’ve downloaded the above two files. Use the next set of commands to install NumPy and OpenCV:"
   ]
  },
  {
   "cell_type": "raw",
   "metadata": {},
   "source": [
    "cd C:\\Users\\Your_User_Name\\Desktop\\Resources\\openCV_Wheels_Needed\n",
    "    \n",
    "pip install \"numpy-1.13.3+mkl-cp36-cp36m-win_amd64.whl\"\n",
    "\n",
    "pip install \"opencv_python-3.3.1-cp36-cp36m-win_amd64.whl\"\n",
    "\n",
    "pip install \"opencv_contrib_python-3.4.0.12-cp36-cp36m-win_amd64.whl\""
   ]
  },
  {
   "cell_type": "markdown",
   "metadata": {},
   "source": [
    "#### Verify your installation:"
   ]
  },
  {
   "cell_type": "raw",
   "metadata": {},
   "source": [
    "pip list"
   ]
  },
  {
   "cell_type": "markdown",
   "metadata": {},
   "source": [
    "You will find your installation in the list if your openCV 3 is correctly installed."
   ]
  },
  {
   "cell_type": "code",
   "execution_count": 1,
   "metadata": {},
   "outputs": [
    {
     "name": "stdout",
     "output_type": "stream",
     "text": [
      "haha\n"
     ]
    }
   ],
   "source": [
    "print(\"haha\")"
   ]
  },
  {
   "cell_type": "code",
   "execution_count": null,
   "metadata": {
    "collapsed": true
   },
   "outputs": [],
   "source": []
  }
 ],
 "metadata": {
  "kernelspec": {
   "display_name": "Python 3",
   "language": "python",
   "name": "python3"
  },
  "language_info": {
   "codemirror_mode": {
    "name": "ipython",
    "version": 3
   },
   "file_extension": ".py",
   "mimetype": "text/x-python",
   "name": "python",
   "nbconvert_exporter": "python",
   "pygments_lexer": "ipython3",
   "version": "3.6.2"
  }
 },
 "nbformat": 4,
 "nbformat_minor": 2
}
