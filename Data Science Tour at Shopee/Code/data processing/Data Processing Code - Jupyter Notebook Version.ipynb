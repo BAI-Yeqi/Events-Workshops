{
 "cells": [
  {
   "cell_type": "code",
   "execution_count": 7,
   "metadata": {},
   "outputs": [],
   "source": [
    "# Arguments\n",
    "full_folder = '/data/workspace/yeqi/projects/RNN4REC/GRU4REC' + '/Data/paths/full data'\n",
    "train_folder = '/data/workspace/yeqi/projects/RNN4REC/GRU4REC' + '/Data/paths/training set'\n",
    "test_folder = '/data/workspace/yeqi/projects/RNN4REC/GRU4REC' + '/Data/paths/test set'\n",
    "pro_data_fold = '/data/workspace/yeqi/projects/RNN4REC/GRU4REC' + '/Processed Data'\n",
    "\n",
    "sess_len_thres = 5"
   ]
  },
  {
   "cell_type": "code",
   "execution_count": 8,
   "metadata": {},
   "outputs": [],
   "source": [
    "# import modules\n",
    "import pandas as pd\n",
    "import numpy as np\n",
    "import gc\n",
    "\n",
    "from os import listdir\n",
    "from os.path import isfile, join"
   ]
  },
  {
   "cell_type": "code",
   "execution_count": 9,
   "metadata": {},
   "outputs": [],
   "source": [
    "# define the function for file path to data as a python list\n",
    "\n",
    "def txt2list(txt_path):\n",
    "    '''\n",
    "    input:\n",
    "        1. txt_path: path to the text file\n",
    "    output:\n",
    "        2. a list containing individual lists, each of which contains:\n",
    "            userid, pathid, itemids in path\n",
    "    '''\n",
    "    results = []\n",
    "    with open(txt_path) as inputfile:\n",
    "        for line in inputfile:\n",
    "            results.append(line.strip().split('|'))\n",
    "            \n",
    "    valid_results = []\n",
    "    for row in results:\n",
    "        if ',' in row[2]:\n",
    "            valid_results.append(row)\n",
    "            \n",
    "    return valid_results\n",
    "\n",
    "def get_paths_from_folder(folder_path):    \n",
    "    return [join(folder_path, f) for f in listdir(folder_path) if isfile(join(folder_path, f))]"
   ]
  },
  {
   "cell_type": "code",
   "execution_count": null,
   "metadata": {},
   "outputs": [],
   "source": [
    "file_paths = get_paths_from_folder(full_folder)\n",
    "all_paths = []\n",
    "for txt_path in file_paths:\n",
    "    if not txt_path.endswith('.DS_Store'):\n",
    "        all_paths = all_paths + txt2list(txt_path)\n",
    "print(\"Total number of user paths:\", len(all_paths))\n",
    "\n",
    "# change to np array for acceleration\n",
    "arr = np.array(all_paths)\n",
    "arr = arr.astype(object)"
   ]
  },
  {
   "cell_type": "code",
   "execution_count": null,
   "metadata": {},
   "outputs": [],
   "source": []
  }
 ],
 "metadata": {
  "kernelspec": {
   "display_name": "ipy-jupyter-venv3",
   "language": "python",
   "name": "myipy_jupter_env3"
  },
  "language_info": {
   "codemirror_mode": {
    "name": "ipython",
    "version": 3
   },
   "file_extension": ".py",
   "mimetype": "text/x-python",
   "name": "python",
   "nbconvert_exporter": "python",
   "pygments_lexer": "ipython3",
   "version": "3.5.2"
  }
 },
 "nbformat": 4,
 "nbformat_minor": 2
}
