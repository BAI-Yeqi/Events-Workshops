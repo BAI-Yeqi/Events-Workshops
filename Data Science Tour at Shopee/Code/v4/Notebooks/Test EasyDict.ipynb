{
 "cells": [
  {
   "cell_type": "code",
   "execution_count": 1,
   "metadata": {},
   "outputs": [],
   "source": [
    "import json\n",
    "from easydict import EasyDict as edict\n",
    "import os"
   ]
  },
  {
   "cell_type": "code",
   "execution_count": 2,
   "metadata": {},
   "outputs": [],
   "source": [
    "config = {\n",
    "  \"exp_name\": \"example\",\n",
    "  \"num_epochs\": 1000,\n",
    "  \"num_iter_per_epoch\": 100,\n",
    "  \"learning_rate\": 0.01,\n",
    "  \"batch_size\": 32,\n",
    "\n",
    "  \"max_to_keep\": 5,\n",
    "  \n",
    "  \"num_steps\": 2,\n",
    "  \"item_emb_size\": 150,\n",
    "  \"user_emb_size\": 150,\n",
    "  \"w2v_size\": 1000,\n",
    "  \"num_item\": 298000,\n",
    "  \"num_user\": 25400,\n",
    "  \"num_layers\": 1,\n",
    "  \"dropout\": 0.0,\n",
    "  \"num_units_4emb\": 300,\n",
    "  \n",
    "\n",
    "  \"X_train_path\": \"/data/workspace/yeqi/projects/RNN4REC/GRU4REC/Processed Data/min_len_5/X_train.npy\",\n",
    "  \"X_test_path\": \"/data/workspace/yeqi/projects/RNN4REC/GRU4REC/Processed Data/min_len_5/X_test.npy\"\n",
    "  \n",
    "}"
   ]
  },
  {
   "cell_type": "code",
   "execution_count": 4,
   "metadata": {},
   "outputs": [],
   "source": [
    "config = edict(config)"
   ]
  },
  {
   "cell_type": "code",
   "execution_count": null,
   "metadata": {},
   "outputs": [],
   "source": []
  }
 ],
 "metadata": {
  "kernelspec": {
   "display_name": "Python 3",
   "language": "python",
   "name": "python3"
  },
  "language_info": {
   "codemirror_mode": {
    "name": "ipython",
    "version": 3
   },
   "file_extension": ".py",
   "mimetype": "text/x-python",
   "name": "python",
   "nbconvert_exporter": "python",
   "pygments_lexer": "ipython3",
   "version": "3.5.2"
  }
 },
 "nbformat": 4,
 "nbformat_minor": 2
}
