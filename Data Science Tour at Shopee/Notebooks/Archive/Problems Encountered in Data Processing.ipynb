{
 "cells": [
  {
   "cell_type": "markdown",
   "metadata": {},
   "source": [
    "#### 1.\n",
    "Because seems for the same batch of data, the length of item path should be the same, therefore, it seems to be a must to save the data as several numpy arrays with different session lengths. Then, the problem will be it will be hard to modify the data (if we want to add in the user profile/FM vectors/item descripion w2v/features from item pictures)\n",
    "\n",
    "Proposed Solution:\n",
    "\n",
    "a. Create an extra column in the numpy array, which represents the length of the session\n",
    "\n",
    "b. At program run time, create real time training data from the numpy array formed in a)\n",
    "\n",
    "c. Add in additional features as new columns"
   ]
  },
  {
   "cell_type": "markdown",
   "metadata": {},
   "source": [
    "#### 2.\n",
    "Need to create some analytical graph, which analysis the lengths of the sessions --- done"
   ]
  },
  {
   "cell_type": "markdown",
   "metadata": {},
   "source": [
    "#### 3. \n",
    "Data Generator: Should be able to random the training data for the next batch.\n",
    "\n"
   ]
  },
  {
   "cell_type": "markdown",
   "metadata": {},
   "source": [
    "#### 4. \n",
    "Item Description/Image: \n",
    "\n",
    "Item description is not contained in the item profile I have, \n",
    "\n",
    "Image info is presented in the following format:\n",
    "http://cf.shopee.sg/file/\n",
    "7c9cc8d26b67ef6b2969ad4d5471af92,4c0d304b4e11c8e37ea7d69cb1956966,7104b252b195d22cdf397385f363976c,d556cac30ea5fa6da991bc91c52d625c\n",
    "\n",
    "I am still unclear about how to access this\n",
    "\n",
    "\n",
    "can please help me to get the item profile (with description) + link to the image (if possible)"
   ]
  },
  {
   "cell_type": "markdown",
   "metadata": {},
   "source": [
    "#### 5.\n",
    "Additional Embedding:\n",
    "\n",
    "Can I try to add the FM embedding to the RNN?\n",
    "\n",
    "#### Another Planning:\n",
    "The FM user/item embedding can actually be input into another RNN, say if the item/user embedding DNE: create random embedding.\n",
    "\n",
    "(Then is it possible to train user/item embedding at RNN???"
   ]
  },
  {
   "cell_type": "markdown",
   "metadata": {},
   "source": [
    "#### 6.\n",
    "How to do zero padding with numpy + tensorflow??\n"
   ]
  },
  {
   "cell_type": "markdown",
   "metadata": {},
   "source": []
  },
  {
   "cell_type": "markdown",
   "metadata": {},
   "source": []
  }
 ],
 "metadata": {
  "kernelspec": {
   "display_name": "Python 3",
   "language": "python",
   "name": "python3"
  },
  "language_info": {
   "codemirror_mode": {
    "name": "ipython",
    "version": 3
   },
   "file_extension": ".py",
   "mimetype": "text/x-python",
   "name": "python",
   "nbconvert_exporter": "python",
   "pygments_lexer": "ipython3",
   "version": "3.6.5"
  }
 },
 "nbformat": 4,
 "nbformat_minor": 2
}
