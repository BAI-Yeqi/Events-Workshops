{
 "cells": [
  {
   "cell_type": "code",
   "execution_count": 1,
   "metadata": {},
   "outputs": [],
   "source": [
    "import pandas as pd\n",
    "import numpy as np\n",
    "import gc"
   ]
  },
  {
   "cell_type": "code",
   "execution_count": 2,
   "metadata": {},
   "outputs": [],
   "source": [
    "def txt2list(txt_path):\n",
    "    '''\n",
    "    input:\n",
    "        1. txt_path: path to the text file\n",
    "    output:\n",
    "        2. a list containing individual lists, each of which contains:\n",
    "            userid, pathid, itemids in path\n",
    "    '''\n",
    "    results = []\n",
    "    with open(txt_path) as inputfile:\n",
    "        for line in inputfile:\n",
    "            results.append(line.strip().split('|'))\n",
    "            \n",
    "    valid_results = []\n",
    "    for row in results:\n",
    "        if ',' in row[2]:\n",
    "            valid_results.append(row)\n",
    "            \n",
    "    return valid_results"
   ]
  },
  {
   "cell_type": "code",
   "execution_count": 3,
   "metadata": {},
   "outputs": [],
   "source": [
    "from os import listdir\n",
    "from os.path import isfile, join\n",
    "def get_paths_from_folder(folder_path):    \n",
    "    return [join(folder_path, f) for f in listdir(folder_path) if isfile(join(folder_path, f))]"
   ]
  },
  {
   "cell_type": "code",
   "execution_count": null,
   "metadata": {},
   "outputs": [],
   "source": [
    "file_paths = get_paths_from_folder(train_folder)\n",
    "all_paths = []\n",
    "for txt_path in file_paths:\n",
    "    if txt_path.endswith('paths'):\n",
    "        all_paths = all_paths + txt2list(txt_path)\n",
    "len(all_paths)  "
   ]
  }
 ],
 "metadata": {
  "kernelspec": {
   "display_name": "Python 3",
   "language": "python",
   "name": "python3"
  },
  "language_info": {
   "codemirror_mode": {
    "name": "ipython",
    "version": 3
   },
   "file_extension": ".py",
   "mimetype": "text/x-python",
   "name": "python",
   "nbconvert_exporter": "python",
   "pygments_lexer": "ipython3",
   "version": "3.6.5"
  }
 },
 "nbformat": 4,
 "nbformat_minor": 2
}
