{
 "cells": [
  {
   "cell_type": "code",
   "execution_count": 1,
   "metadata": {},
   "outputs": [],
   "source": [
    "import pandas as pd\n",
    "import numpy as np\n",
    "import gc\n",
    "import os\n",
    "from os import listdir\n",
    "from os.path import isfile, join\n",
    "import time"
   ]
  },
  {
   "cell_type": "code",
   "execution_count": 2,
   "metadata": {},
   "outputs": [],
   "source": [
    "# Arguments\n",
    "min_length = 5\n",
    "max_length = 20\n",
    "source_folder_name = 'min_5_max_20'\n",
    "project_folder = '/data/workspace/yeqi/projects/RNN4REC/GRU4REC'\n",
    "data_folder = '/data/workspace/yeqi/projects/RNN4REC/GRU4REC/Data/paths'\n",
    "\n",
    "train_folder = data_folder + '/training set'\n",
    "test_folder = data_folder + '/test set'\n",
    "full_folder = data_folder + '/full data'\n",
    "\n",
    "pro_data_folder = project_folder + '/Processed Data'\n",
    "source_folder = pro_data_folder + '/' + source_folder_name"
   ]
  },
  {
   "cell_type": "code",
   "execution_count": 3,
   "metadata": {},
   "outputs": [],
   "source": [
    "X_train = np.load(source_folder +'/X_train.npy')\n",
    "X_test = np.load(source_folder +'/X_test.npy')"
   ]
  },
  {
   "cell_type": "code",
   "execution_count": 4,
   "metadata": {},
   "outputs": [],
   "source": [
    "userid_df = pd.read_csv(source_folder + '/userid_map.csv')\n",
    "itemid_df = pd.read_csv(source_folder + '/itemid_map.csv')"
   ]
  },
  {
   "cell_type": "code",
   "execution_count": 5,
   "metadata": {},
   "outputs": [
    {
     "data": {
      "text/plain": [
       "(193077, 24344, 12597)"
      ]
     },
     "execution_count": 5,
     "metadata": {},
     "output_type": "execute_result"
    }
   ],
   "source": [
    "item_df = pd.DataFrame(itemid_df)\n",
    "item_df['train_count'] = 0\n",
    "item_df['test_count'] = 0\n",
    "\n",
    "for row in X_train:\n",
    "    for itemid in row[2]:\n",
    "        item_df['train_count'][itemid] = item_df['train_count'][itemid] + 1\n",
    "for row in X_test:\n",
    "    for itemid in row[2]:\n",
    "        item_df['test_count'][itemid] = item_df['test_count'][itemid] + 1\n",
    "\n",
    "train_item_count = 0\n",
    "test_item_count = 0\n",
    "co_item_count = 0\n",
    "item_arr = item_df.values\n",
    "for row in item_arr:\n",
    "    if row[2] > 0:\n",
    "        train_item_count = train_item_count + 1\n",
    "    if row[3] > 0:\n",
    "        test_item_count = test_item_count + 1\n",
    "        if row[2] > 0:\n",
    "            co_item_count = co_item_count + 1\n",
    "\n",
    "train_item_count, test_item_count, co_item_count"
   ]
  },
  {
   "cell_type": "code",
   "execution_count": 6,
   "metadata": {},
   "outputs": [],
   "source": [
    "item_arr = item_df.values\n",
    "\n",
    "np.mean(np.array(item_df['train_count']))\n",
    "\n",
    "top_items = []\n",
    "for i in range(1, len(item_arr)):\n",
    "    row = item_arr[i]\n",
    "    if row[2] >= 20 and row[3] > 0:\n",
    "        top_items.append(list(row))\n",
    "        \n",
    "top_items = np.array(top_items)\n",
    "top_i_df = pd.DataFrame(top_items)"
   ]
  },
  {
   "cell_type": "code",
   "execution_count": 8,
   "metadata": {},
   "outputs": [],
   "source": [
    "top_items_list = list(top_items[:,0])"
   ]
  },
  {
   "cell_type": "code",
   "execution_count": 9,
   "metadata": {},
   "outputs": [
    {
     "data": {
      "text/plain": [
       "3814"
      ]
     },
     "execution_count": 9,
     "metadata": {},
     "output_type": "execute_result"
    }
   ],
   "source": [
    "len(top_items_list)"
   ]
  },
  {
   "cell_type": "code",
   "execution_count": 10,
   "metadata": {},
   "outputs": [],
   "source": [
    "itemid_dict = dict([(top_items_list[i], i) for i in range(len(top_items_list))])"
   ]
  },
  {
   "cell_type": "code",
   "execution_count": 11,
   "metadata": {},
   "outputs": [],
   "source": [
    "# reimport our sliced training data and origin test data\n",
    "X_train = np.load(\"/data/workspace/yeqi/projects/RNN4REC/GRU4REC/Processed Data/min_5_max_20/sliced data/X_train.npy\")\n",
    "X_test = np.load(\"/data/workspace/yeqi/projects/RNN4REC/GRU4REC/Processed Data/min_5_max_20/X_test.npy\")"
   ]
  },
  {
   "cell_type": "code",
   "execution_count": 12,
   "metadata": {},
   "outputs": [
    {
     "data": {
      "text/plain": [
       "((679315, 5), (16152, 5))"
      ]
     },
     "execution_count": 12,
     "metadata": {},
     "output_type": "execute_result"
    }
   ],
   "source": [
    "X_train.shape, X_test.shape"
   ]
  },
  {
   "cell_type": "code",
   "execution_count": 13,
   "metadata": {},
   "outputs": [],
   "source": [
    "new_X_test = []\n",
    "\n",
    "for row in X_test:\n",
    "    if row[4] in top_items_list:\n",
    "        new_row = []\n",
    "        new_row.append(row[0])\n",
    "        new_row.append(row[1])\n",
    "        new_row.append(row[2])\n",
    "        new_row.append(row[3])\n",
    "        new_row.append(itemid_dict[row[4]])\n",
    "        new_X_test.append(new_row)\n",
    "new_X_test = np.array(new_X_test, dtype = object)"
   ]
  },
  {
   "cell_type": "code",
   "execution_count": 14,
   "metadata": {},
   "outputs": [],
   "source": [
    "new_X_train = []\n",
    "for row in X_train:\n",
    "    if row[4] in top_items_list:\n",
    "        new_row = []\n",
    "        new_row.append(row[0])\n",
    "        new_row.append(row[1])\n",
    "        new_row.append(row[2])\n",
    "        new_row.append(row[3])\n",
    "        new_row.append(itemid_dict[row[4]])\n",
    "        new_X_train.append(new_row)\n",
    "new_X_train = np.array(new_X_train, dtype = object)"
   ]
  },
  {
   "cell_type": "code",
   "execution_count": 15,
   "metadata": {},
   "outputs": [
    {
     "data": {
      "text/plain": [
       "((124037, 5), (2465, 5))"
      ]
     },
     "execution_count": 15,
     "metadata": {},
     "output_type": "execute_result"
    }
   ],
   "source": [
    "new_X_train.shape, new_X_test.shape"
   ]
  },
  {
   "cell_type": "code",
   "execution_count": 16,
   "metadata": {},
   "outputs": [
    {
     "data": {
      "text/plain": [
       "array([[11445, 52, array([115639, 168292, 168295, 106023]), 5, 739],\n",
       "       [17479, 7, array([155881,  55112, 123739, 169190]), 5, 2776],\n",
       "       [8503, 12, array([ 24992, 211561, 194697, 112275]), 5, 149],\n",
       "       ...,\n",
       "       [9500, 3,\n",
       "        array([ 22235,  86016,  81128,  34977,  21736,  85633, 124206, 168359,\n",
       "       113048, 147342, 120014,  42154, 122299, 151739,  21943,  50434,\n",
       "        13681,  65851, 110177]),\n",
       "        20, 761],\n",
       "       [3258, 16,\n",
       "        array([218677,  42216,  74913,  74373,  63452,  62519,  54050,  62219,\n",
       "        92001,  67647, 131492,  48164, 159796, 155154,  69934,  99725,\n",
       "       161869,  66471,  45027]),\n",
       "        20, 722],\n",
       "       [19531, 8,\n",
       "        array([224410,  35231, 150630,  54085,  38886, 120012,  76810,  90519,\n",
       "        39687,  50451,  55995, 100131,  86860, 252626, 171089, 159056,\n",
       "       131284,  56951, 160830]),\n",
       "        20, 486]], dtype=object)"
      ]
     },
     "execution_count": 16,
     "metadata": {},
     "output_type": "execute_result"
    }
   ],
   "source": [
    "new_X_train"
   ]
  },
  {
   "cell_type": "code",
   "execution_count": 18,
   "metadata": {},
   "outputs": [],
   "source": [
    "top_folder = '/data/workspace/yeqi/projects/RNN4REC/GRU4REC/Processed Data/min_5_max_20/top item above 20'\n",
    "np.save(top_folder + '/X_train.npy', new_X_train)\n",
    "np.save(top_folder + '/X_test.npy', new_X_test)"
   ]
  },
  {
   "cell_type": "code",
   "execution_count": null,
   "metadata": {},
   "outputs": [],
   "source": []
  }
 ],
 "metadata": {
  "kernelspec": {
   "display_name": "Python 3",
   "language": "python",
   "name": "python3"
  },
  "language_info": {
   "codemirror_mode": {
    "name": "ipython",
    "version": 3
   },
   "file_extension": ".py",
   "mimetype": "text/x-python",
   "name": "python",
   "nbconvert_exporter": "python",
   "pygments_lexer": "ipython3",
   "version": "3.5.2"
  }
 },
 "nbformat": 4,
 "nbformat_minor": 2
}
